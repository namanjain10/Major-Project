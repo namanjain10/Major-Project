{
 "cells": [
  {
   "cell_type": "code",
   "execution_count": 1,
   "metadata": {},
   "outputs": [
    {
     "name": "stderr",
     "output_type": "stream",
     "text": [
      "/anaconda3/lib/python3.6/site-packages/h5py/__init__.py:36: FutureWarning: Conversion of the second argument of issubdtype from `float` to `np.floating` is deprecated. In future, it will be treated as `np.float64 == np.dtype(float).type`.\n",
      "  from ._conv import register_converters as _register_converters\n",
      "Using TensorFlow backend.\n"
     ]
    }
   ],
   "source": [
    "import cv2\n",
    "import numpy as np\n",
    "import matplotlib.pyplot as plt\n",
    "import os\n",
    "import pandas as pd\n",
    "%matplotlib notebook\n",
    "\n",
    "import keras\n",
    "\n",
    "from keras.layers import Convolution2D, Flatten, Dense, MaxPool2D, Activation, Dropout\n",
    "from keras.models import Sequential\n",
    "from keras.utils import np_utils"
   ]
  },
  {
   "cell_type": "code",
   "execution_count": 3,
   "metadata": {},
   "outputs": [],
   "source": [
    "dirs = os.listdir('/Users/ishpreet/Desktop/Major Project/Datasets/')\n",
    "path = '/Users/ishpreet/Desktop/Major Project/Datasets/'\n",
    "flag=0\n",
    "labels = []\n",
    "lab=[]\n",
    "langName = []\n"
   ]
  },
  {
   "cell_type": "code",
   "execution_count": null,
   "metadata": {},
   "outputs": [],
   "source": []
  },
  {
   "cell_type": "code",
   "execution_count": 4,
   "metadata": {},
   "outputs": [
    {
     "name": "stdout",
     "output_type": "stream",
     "text": [
      "Hindi\n",
      "English\n",
      "Tamil\n"
     ]
    }
   ],
   "source": [
    "# c = 0\n",
    "# x = 0\n",
    "lanc = 0\n",
    "imgarr = []\n",
    "\n",
    "for i in dirs:\n",
    "    \n",
    "    \n",
    "    \n",
    "    if(i[0]=='.'):\n",
    "        continue\n",
    "   \n",
    "\n",
    "    print(i)\n",
    "    st = path+i\n",
    "#     flag = 0\n",
    "    \n",
    "    \n",
    "#     if(i=='English'):\n",
    "        \n",
    "#         flag = 1\n",
    "    \n",
    "    \n",
    "    \n",
    "    for j in os.listdir(st):\n",
    "        \n",
    "        \n",
    "        if(j[0]=='.'):\n",
    "            continue\n",
    "            \n",
    "        st2 = st+'/'+j\n",
    "        x = x+1\n",
    "        \n",
    "        for k in os.listdir(st2):\n",
    "            \n",
    "            if(k[0]=='.'):\n",
    "                continue\n",
    "            \n",
    "            img = cv2.imread(st2+'/'+k, 0)\n",
    "            \n",
    "            #print (img.shape)\n",
    "            \n",
    "#             kernel = np.ones((2,2),np.uint8)\n",
    "#             img = cv2.morphologyEx(img, cv2.MORPH_CLOSE, kernel)\n",
    "            \n",
    "            \n",
    "            \n",
    "            \n",
    "            random , img = cv2.threshold(img,0,255,cv2.THRESH_BINARY_INV+cv2.THRESH_OTSU)\n",
    "            \n",
    "            finimg = img\n",
    "            \n",
    "            if(flag==1):\n",
    "            \n",
    "                image, contours, hierarchy = cv2.findContours(img,cv2.RETR_EXTERNAL,cv2.CHAIN_APPROX_SIMPLE)\n",
    "\n",
    "                maxa = 0\n",
    "                maxx = 0\n",
    "                maxy = 0\n",
    "                maxw,maxh=0,0\n",
    "\n",
    "                for contour in contours:\n",
    "                # get rectangle bounding contour\n",
    "                    [x, y, w, h] = cv2.boundingRect(contour)\n",
    "\n",
    "                    if(w*h>maxa):\n",
    "\n",
    "                        maxa,maxx,maxy,maxw,maxh = w*h,x,y,w,h\n",
    "                        \n",
    "                    \n",
    "\n",
    "                \n",
    "                finimg = img[maxy:maxy+maxh,maxx:maxx+maxw]\n",
    "                \n",
    "                \n",
    "            else:\n",
    "                \n",
    "                kernel = np.ones((2,2),np.uint8)\n",
    "                finimg = cv2.dilate(finimg,kernel,iterations = 1)\n",
    "                \n",
    "\n",
    "            finimg = cv2.resize(finimg, dsize=(50, 50), interpolation=cv2.INTER_CUBIC)\n",
    "\n",
    "            random , finimg = cv2.threshold(finimg,0,255,cv2.THRESH_BINARY+cv2.THRESH_OTSU)\n",
    "\n",
    "            c = c+1\n",
    "\n",
    "            \n",
    "            #labels.append(i+j)\n",
    "            #lab.append(x)\n",
    "            imgarr.append(finimg)\n",
    "            langName.append(lanc)\n",
    "            \n",
    "    lanc = lanc+1"
   ]
  },
  {
   "cell_type": "code",
   "execution_count": 5,
   "metadata": {},
   "outputs": [
    {
     "data": {
      "text/plain": [
       "(26501, 3)"
      ]
     },
     "execution_count": 5,
     "metadata": {},
     "output_type": "execute_result"
    }
   ],
   "source": [
    "labs = np_utils.to_categorical(langName)\n",
    "labs.shape"
   ]
  },
  {
   "cell_type": "code",
   "execution_count": 6,
   "metadata": {},
   "outputs": [
    {
     "data": {
      "text/plain": [
       "(array([0, 1, 2]), array([12691,  3410, 10400]))"
      ]
     },
     "execution_count": 6,
     "metadata": {},
     "output_type": "execute_result"
    }
   ],
   "source": [
    "np.unique(langName,return_counts=True)"
   ]
  },
  {
   "cell_type": "code",
   "execution_count": 7,
   "metadata": {},
   "outputs": [],
   "source": [
    "imgarr = np.array(imgarr).reshape((len(imgarr), 50, 50, 1))"
   ]
  },
  {
   "cell_type": "code",
   "execution_count": 8,
   "metadata": {},
   "outputs": [
    {
     "name": "stdout",
     "output_type": "stream",
     "text": [
      "_________________________________________________________________\n",
      "Layer (type)                 Output Shape              Param #   \n",
      "=================================================================\n",
      "conv2d_1 (Conv2D)            (None, 48, 48, 32)        320       \n",
      "_________________________________________________________________\n",
      "activation_1 (Activation)    (None, 48, 48, 32)        0         \n",
      "_________________________________________________________________\n",
      "conv2d_2 (Conv2D)            (None, 46, 46, 16)        4624      \n",
      "_________________________________________________________________\n",
      "activation_2 (Activation)    (None, 46, 46, 16)        0         \n",
      "_________________________________________________________________\n",
      "max_pooling2d_1 (MaxPooling2 (None, 23, 23, 16)        0         \n",
      "_________________________________________________________________\n",
      "conv2d_3 (Conv2D)            (None, 21, 21, 8)         1160      \n",
      "_________________________________________________________________\n",
      "activation_3 (Activation)    (None, 21, 21, 8)         0         \n",
      "_________________________________________________________________\n",
      "max_pooling2d_2 (MaxPooling2 (None, 10, 10, 8)         0         \n",
      "_________________________________________________________________\n",
      "flatten_1 (Flatten)          (None, 800)               0         \n",
      "_________________________________________________________________\n",
      "dropout_1 (Dropout)          (None, 800)               0         \n",
      "_________________________________________________________________\n",
      "dense_1 (Dense)              (None, 3)                 2403      \n",
      "_________________________________________________________________\n",
      "activation_4 (Activation)    (None, 3)                 0         \n",
      "=================================================================\n",
      "Total params: 8,507\n",
      "Trainable params: 8,507\n",
      "Non-trainable params: 0\n",
      "_________________________________________________________________\n"
     ]
    }
   ],
   "source": [
    "model = Sequential()\n",
    "\n",
    "model.add(Convolution2D(32, (3, 3), input_shape=(50, 50, 1)))\n",
    "model.add(Activation('relu'))\n",
    "\n",
    "model.add(Convolution2D(16, (3, 3)))\n",
    "model.add(Activation('relu'))\n",
    "\n",
    "model.add(MaxPool2D(pool_size=(2, 2)))\n",
    "\n",
    "model.add(Convolution2D(8, (3, 3)))\n",
    "model.add(Activation('relu'))\n",
    "\n",
    "model.add(MaxPool2D(pool_size=(2, 2)))\n",
    "\n",
    "model.add(Flatten())\n",
    "model.add(Dropout(0.4))\n",
    "\n",
    "model.add(Dense(labs.shape[1]))\n",
    "model.add(Activation('softmax'))\n",
    "\n",
    "model.summary()\n",
    "model.compile(loss='categorical_crossentropy', optimizer='adam', metrics=['accuracy'])"
   ]
  },
  {
   "cell_type": "code",
   "execution_count": null,
   "metadata": {},
   "outputs": [],
   "source": []
  },
  {
   "cell_type": "code",
   "execution_count": 9,
   "metadata": {},
   "outputs": [
    {
     "name": "stdout",
     "output_type": "stream",
     "text": [
      "Train on 21200 samples, validate on 5301 samples\n",
      "Epoch 1/10\n",
      "21200/21200 [==============================] - 37s 2ms/step - loss: 4.2998 - acc: 0.6208 - val_loss: 1.1802 - val_acc: 0.5286\n",
      "Epoch 2/10\n",
      "21200/21200 [==============================] - 35s 2ms/step - loss: 0.4829 - acc: 0.8107 - val_loss: 1.1393 - val_acc: 0.6348\n",
      "Epoch 3/10\n",
      "21200/21200 [==============================] - 36s 2ms/step - loss: 0.3279 - acc: 0.8774 - val_loss: 1.0263 - val_acc: 0.6929\n",
      "Epoch 4/10\n",
      "21200/21200 [==============================] - 36s 2ms/step - loss: 0.2318 - acc: 0.9146 - val_loss: 1.1254 - val_acc: 0.6750\n",
      "Epoch 5/10\n",
      "21200/21200 [==============================] - 36s 2ms/step - loss: 0.1843 - acc: 0.9332 - val_loss: 1.1019 - val_acc: 0.6814\n",
      "Epoch 6/10\n",
      "21200/21200 [==============================] - 36s 2ms/step - loss: 0.1585 - acc: 0.9431 - val_loss: 1.2249 - val_acc: 0.6791\n",
      "Epoch 7/10\n",
      "21200/21200 [==============================] - 35s 2ms/step - loss: 0.1480 - acc: 0.9476 - val_loss: 1.2308 - val_acc: 0.6757\n",
      "Epoch 8/10\n",
      "21200/21200 [==============================] - 36s 2ms/step - loss: 0.1310 - acc: 0.9533 - val_loss: 0.9869 - val_acc: 0.7176\n",
      "Epoch 9/10\n",
      "21200/21200 [==============================] - 36s 2ms/step - loss: 0.1223 - acc: 0.9552 - val_loss: 0.9240 - val_acc: 0.7514\n",
      "Epoch 10/10\n",
      "21200/21200 [==============================] - 36s 2ms/step - loss: 0.1153 - acc: 0.9584 - val_loss: 1.1683 - val_acc: 0.6967\n"
     ]
    }
   ],
   "source": [
    "hist = model.fit(imgarr, labs,\n",
    "                epochs=10,\n",
    "                shuffle=True,\n",
    "                batch_size=100,\n",
    "                validation_split=0.2)"
   ]
  },
  {
   "cell_type": "code",
   "execution_count": 32,
   "metadata": {},
   "outputs": [
    {
     "name": "stdout",
     "output_type": "stream",
     "text": [
      "(623, 1200)\n",
      "7\n",
      "{0: 223, 2: 95, 1: 68}\n"
     ]
    },
    {
     "data": {
      "image/png": "[encoded data removed]",
      "text/plain": [
       "<Figure size 432x288 with 1 Axes>"
      ]
     },
     "metadata": {},
     "output_type": "display_data"
    }
   ],
   "source": [
    "Image=cv2.imread('/Users/ishpreet/Downloads/tameng.jpeg', 0)\n",
    "#create a CLAHE object (Arguments are optional).\n",
    "# plt.imshow(img,cmap = 'gray')\n",
    "clahe = cv2.createCLAHE(clipLimit=2.0, tileGridSize=(8,8))\n",
    "Image = clahe.apply(Image)\n",
    "I=Image.copy()\n",
    "\n",
    "i=Image.copy()\n",
    "G_Image=Image\n",
    "\n",
    "print(i.shape)\n",
    "chars = []\n",
    "\n",
    "#Otsu Thresholding\n",
    "blur = cv2.GaussianBlur(G_Image,(1,1),0)\n",
    "ret,th = cv2.threshold(blur,0,255,cv2.THRESH_BINARY_INV+cv2.THRESH_OTSU)\n",
    "\n",
    "\n",
    "# grab the (x, y) coordinates of all pixel values that\n",
    "# are greater than zero, then use these coordinates to\n",
    "# compute a rotated bounding box that contains all\n",
    "# coordinates\n",
    "coords = np.column_stack(np.where(th > 0))\n",
    "angle = cv2.minAreaRect(coords)[-1]\n",
    " \n",
    "\n",
    "# the `cv2.minAreaRect` function returns values in the\n",
    "# range [-90, 0); as the rectangle rotates clockwise the\n",
    "# returned angle trends to 0 -- in this special case we\n",
    "# need to add 90 degrees to the angle\n",
    "if angle < -45:\n",
    "    angle = -(90 + angle)\n",
    "\n",
    "    \n",
    "else:    \n",
    "    angle = - angle\n",
    "    \n",
    "\n",
    "# rotate the image to deskew it\n",
    "(h, w) = Image.shape[:2]\n",
    "center = (w // 2, h // 2)\n",
    "M = cv2.getRotationMatrix2D(center, angle, 1.0)\n",
    "th = cv2.warpAffine(th, M, (w, h),flags=cv2.INTER_CUBIC, borderMode=cv2.BORDER_REPLICATE)\n",
    "    \n",
    "plt.imshow(th,cmap = 'gray')\n",
    "\n",
    "image, contours, hierarchy = cv2.findContours(th,cv2.RETR_EXTERNAL,cv2.CHAIN_APPROX_SIMPLE)\n",
    "#img = cv2.drawContours(Image, contours, -1, (0,255,0), 3)\n",
    "\n",
    "for contour in contours:\n",
    "        # get rectangle bounding contour\n",
    "        [x, y, w, h] = cv2.boundingRect(contour)\n",
    "        \n",
    "        chars.append((x,y,w,h))\n",
    "\n",
    "        if h>20:\n",
    "            continue\n",
    "\n",
    "\n",
    "chars = sepwords(th,chars)\n",
    "\n",
    "\n",
    "      \n",
    "pred = {}\n",
    "\n",
    "for n in range(len(chars)):\n",
    "    \n",
    "    finimg = i[chars[n][1]:chars[n][1]+chars[n][3], chars[n][0]:chars[n][0]+chars[n][2]]\n",
    "    \n",
    "    if(finimg.shape[0]*finimg.shape[1]>120):\n",
    "        \n",
    "        finimg = finimg.astype('uint8')\n",
    "        random, finimg = cv2.threshold(finimg,0,255,cv2.THRESH_BINARY_INV+cv2.THRESH_OTSU)\n",
    "        finimg = cv2.resize(finimg, dsize=(50, 50), interpolation=cv2.INTER_CUBIC)\n",
    "        random , finimg = cv2.threshold(finimg,0,255,cv2.THRESH_BINARY+cv2.THRESH_OTSU)\n",
    "        \n",
    "        finimg = np.array(finimg).reshape(( -1,50, 50, 1))\n",
    "        \n",
    "        try:\n",
    "            pred[np.argmax(model.predict(finimg))]=pred[np.argmax(model.predict(finimg))]+1\n",
    "            \n",
    "        except:\n",
    "            pred[np.argmax(model.predict(finimg))]=1\n",
    "        \n",
    "        \n",
    "print(pred)"
   ]
  },
  {
   "cell_type": "code",
   "execution_count": 25,
   "metadata": {},
   "outputs": [],
   "source": [
    "\n",
    "\n",
    "def sepwords(img , cord):\n",
    "    \n",
    "    coun = 0\n",
    "    fincord = []\n",
    "    \n",
    "    \n",
    "    for n in range(len(cord)):\n",
    "        \n",
    "        if(cord[n][2]/cord[n][3]<3):\n",
    "            \n",
    "            fincord.append(cord[n])\n",
    "            continue\n",
    "            \n",
    "        coun += 1\n",
    "\n",
    "        hinimg = img[chars[n][1]:chars[n][1]+chars[n][3], chars[n][0]:chars[n][0]+chars[n][2]]\n",
    "        \n",
    "        r,c = hinimg.shape\n",
    "        s = []\n",
    "        s1=0\n",
    "        ms = 0\n",
    "\n",
    "        for i in range(r):\n",
    "            s1=0   \n",
    "            for j in range(c):\n",
    "\n",
    "                s1+=hinimg[i][j]\n",
    "\n",
    "            if s1>ms:\n",
    "                ms = s1\n",
    "\n",
    "            s.append(s1)\n",
    "\n",
    "\n",
    "        rows2del = []\n",
    "\n",
    "        for i in range(r):\n",
    "\n",
    "            if s[i]>=0.80*ms:\n",
    "\n",
    "                for j in  range(c):\n",
    "\n",
    "                    hinimg[i][j] = 0\n",
    "\n",
    "        #plt.imshow(hinimg,cmap='gray')\n",
    "\n",
    "\n",
    "        hini = hinimg.copy()\n",
    "\n",
    "        char = []\n",
    "\n",
    "        image1, contours1, hierarchy1 = cv2.findContours(hini,cv2.RETR_EXTERNAL,cv2.CHAIN_APPROX_SIMPLE)\n",
    "        #img = cv2.drawContours(Image, contours, -1, (0,255,0), 3)\n",
    "\n",
    "        for contour in contours1:\n",
    "                # get rectangle bounding contour\n",
    "                [x, y, w, h] = cv2.boundingRect(contour)\n",
    "\n",
    "                fincord.append((x,y,w,h))\n",
    "                \n",
    "      \n",
    "    print(coun)\n",
    "    return fincord\n",
    "\n",
    "\n"
   ]
  },
  {
   "cell_type": "code",
   "execution_count": null,
   "metadata": {},
   "outputs": [],
   "source": []
  }
 ],
 "metadata": {
  "kernelspec": {
   "display_name": "Python 3",
   "language": "python",
   "name": "python3"
  },
  "language_info": {
   "codemirror_mode": {
    "name": "ipython",
    "version": 3
   },
   "file_extension": ".py",
   "mimetype": "text/x-python",
   "name": "python",
   "nbconvert_exporter": "python",
   "pygments_lexer": "ipython3",
   "version": "3.6.5"
  }
 },
 "nbformat": 4,
 "nbformat_minor": 2
}
