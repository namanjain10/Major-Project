{
 "cells": [
  {
   "cell_type": "code",
   "execution_count": 13,
   "metadata": {},
   "outputs": [],
   "source": [
    "import cv2\n",
    "import numpy as np\n",
    "import matplotlib.pyplot as plt\n",
    "import os\n",
    "import pandas as pd\n",
    "import scipy.misc\n",
    "\n",
    "%matplotlib notebook"
   ]
  },
  {
   "cell_type": "code",
   "execution_count": 14,
   "metadata": {},
   "outputs": [],
   "source": [
    "dirs = os.listdir('/Users/ishpreet/Downloads/TamilMam/')\n",
    "path = '/Users/ishpreet/Downloads/TamilMam/'"
   ]
  },
  {
   "cell_type": "code",
   "execution_count": 17,
   "metadata": {},
   "outputs": [
    {
     "name": "stderr",
     "output_type": "stream",
     "text": [
      "/anaconda3/lib/python3.6/site-packages/ipykernel_launcher.py:31: DeprecationWarning: `imsave` is deprecated!\n",
      "`imsave` is deprecated in SciPy 1.0.0, and will be removed in 1.2.0.\n",
      "Use ``imageio.imwrite`` instead.\n"
     ]
    }
   ],
   "source": [
    "count = 0\n",
    "for i in dirs:\n",
    "    \n",
    "    x = path+i\n",
    "    \n",
    "    img = cv2.imread(x,0)\n",
    "    img1 = cv2.imread(x)\n",
    "        \n",
    "    blur = cv2.GaussianBlur(img,(1,1),0)\n",
    "\n",
    "    ret,img = cv2.threshold(blur,0,255,cv2.THRESH_BINARY_INV+cv2.THRESH_OTSU)\n",
    "    \n",
    "    \n",
    "    \n",
    "#     plt.figure(count)\n",
    "#     plt.imshow(img,cmap='gray')\n",
    "    \n",
    "    \n",
    "    \n",
    "    \n",
    "    image, contours, hierarchy = cv2.findContours(img,cv2.RETR_EXTERNAL,cv2.CHAIN_APPROX_SIMPLE)\n",
    "\n",
    "  \n",
    "    for contour in contours:\n",
    "            # get rectangle bounding contour\n",
    "        [x, y, w, h] = cv2.boundingRect(contour)\n",
    "        \n",
    "        finImg = img1[y:y+h,x:x+w]\n",
    "        \n",
    "        if(w*h>250):\n",
    "            scipy.misc.imsave('/Users/ishpreet/Downloads/TamilMam/New Tamil/outfile' + str(count) + '.jpg', finImg)\n",
    "        \n",
    "        count+=1\n",
    "        \n",
    "        \n",
    "        "
   ]
  },
  {
   "cell_type": "code",
   "execution_count": null,
   "metadata": {},
   "outputs": [],
   "source": []
  }
 ],
 "metadata": {
  "kernelspec": {
   "display_name": "Python 3",
   "language": "python",
   "name": "python3"
  },
  "language_info": {
   "codemirror_mode": {
    "name": "ipython",
    "version": 3
   },
   "file_extension": ".py",
   "mimetype": "text/x-python",
   "name": "python",
   "nbconvert_exporter": "python",
   "pygments_lexer": "ipython3",
   "version": "3.6.5"
  }
 },
 "nbformat": 4,
 "nbformat_minor": 2
}
